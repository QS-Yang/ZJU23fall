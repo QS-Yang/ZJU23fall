{
 "cells": [
  {
   "cell_type": "code",
   "execution_count": 47,
   "metadata": {},
   "outputs": [],
   "source": [
    "import pandas as pd\n",
    "import numpy as np\n",
    "from fpdf import FPDF\n",
    "\n",
    "pd.read_excel(io='./23fall.xlsx')\n",
    "raw_data = pd.read_excel('23fall.xlsx')"
   ]
  },
  {
   "cell_type": "code",
   "execution_count": 3,
   "metadata": {},
   "outputs": [
    {
     "data": {
      "text/plain": [
       "Index(['序号', '1. E-mail', '2. 姓名', '3. 是否以硕士身份申请', '4. 当前专业', '5. 是否竺院',\n",
       "       '6. LinkedIn链接', '7. 微信', '8. 其他联系方式', '9. 最终选择学校', '10. 最终选择学位',\n",
       "       '11. 最终选择项目', '12. 申请方向', '13. 对于联络你的学弟学妹愿意提供哪些帮助', '14. 你是跨专业申请吗',\n",
       "       '15. 总GPA', 'Unnamed: 16', '16. 专业GPA', 'Unnamed: 18', '17. 排名',\n",
       "       '18. 你的语言考试是', '19. 你的语言考试成绩为', '20. 你的GRE成绩是', 'Unnamed: 23',\n",
       "       'Unnamed: 24', '21. 你的作品集网站/个人主页链接是', '22. 你获得了哪些项目的 offer',\n",
       "       '23. 你收到了哪些项目的拒信', '24. 你的科研经历', '25. 你的实习经历', '26. 你的竞赛经历',\n",
       "       '27. 奖项与奖学金', '28. 论文和专利', '29. 推荐信来源', '30. 套磁经验', '31. 选项标准和考虑',\n",
       "       '32. 最终择校的考虑', '33. 申请的正面因素', '34. 其他经验'],\n",
       "      dtype='object')"
      ]
     },
     "execution_count": 3,
     "metadata": {},
     "output_type": "execute_result"
    }
   ],
   "source": [
    "raw_data.columns"
   ]
  },
  {
   "cell_type": "code",
   "execution_count": null,
   "metadata": {},
   "outputs": [],
   "source": [
    "raw_data.head(3)"
   ]
  },
  {
   "cell_type": "code",
   "execution_count": null,
   "metadata": {},
   "outputs": [],
   "source": [
    "for idx, data in raw_data.iterrows():\n",
    "    if idx < 1:\n",
    "        continue\n",
    "    print('row: ', idx)\n",
    "    print(data[2])"
   ]
  },
  {
   "cell_type": "code",
   "execution_count": 6,
   "metadata": {},
   "outputs": [],
   "source": [
    "class PDF(FPDF):\n",
    "    def header(self):\n",
    "        self.add_font(\"SimHei\", \"\", \"./font/SimHei.ttf\", True)\n",
    "        self.set_margins(left = 10, top = 5)\n",
    "        # Setting font: SimHei bold 15\n",
    "        self.set_font(\"SimHei\", size = 10)\n",
    "        # Printing title:\n",
    "        self.cell(190, 5, \"23fall浙江大学CS/设计/InfoSci飞跃手册\", border=\"B\", align=\"C\")\n",
    "        # Performing a line break:\n",
    "        self.ln(10)\n",
    "\n",
    "    def footer(self):\n",
    "        # Position cursor at 1.5 cm from bottom:\n",
    "        self.set_y(-15)\n",
    "        # Setting font: SimHei italic 8\n",
    "        self.set_font(\"helvetica\", \"I\", 8)\n",
    "        # Printing page number:\n",
    "        self.cell(0, 10, f\"{self.page_no()}\", align=\"R\")\n",
    "\n",
    "\n"
   ]
  },
  {
   "cell_type": "code",
   "execution_count": 74,
   "metadata": {},
   "outputs": [
    {
     "name": "stderr",
     "output_type": "stream",
     "text": [
      "C:\\Users\\DELL\\AppData\\Local\\Temp/ipykernel_17508/3612065290.py:4: DeprecationWarning: \"uni\" parameter is deprecated, unused and will soon be removed\n",
      "  pdf.add_font(\"YaoTi\", \"\", \"./font/YaoTi.ttf\", True)\n",
      "'created' timestamp seems very low; regarding as unix timestamp\n",
      "C:\\Users\\DELL\\AppData\\Local\\Temp/ipykernel_17508/2095998402.py:3: DeprecationWarning: \"uni\" parameter is deprecated, unused and will soon be removed\n",
      "  self.add_font(\"SimHei\", \"\", \"./font/SimHei.ttf\", True)\n",
      "'created' timestamp seems very low; regarding as unix timestamp\n"
     ]
    }
   ],
   "source": [
    "# Instantiation of inherited class\n",
    "pdf = PDF()\n",
    "# add font\n",
    "pdf.add_font(\"YaoTi\", \"\", \"./font/YaoTi.ttf\", True)\n",
    "# For creating different pages\n",
    "for idx, data in raw_data.iterrows():\n",
    "    if idx < 1:\n",
    "        continue\n",
    "    if idx > 1:\n",
    "        break\n",
    "    pdf.add_page()\n",
    "    pdf.set_font(\"YaoTi\", size=22)\n",
    "    pdf.set_text_color(4, 70, 255)\n",
    "    pdf.cell(25, 15, data[\"2. 姓名\"])\n",
    "    school = data[\"11. 最终选择项目\"] + \" \" + \\\n",
    "            data[\"10. 最终选择学位\"] + \"@\" + data[\"9. 最终选择学校\"]\n",
    "    pdf.set_font(\"helvetica\", size=22)\n",
    "    pdf.cell(0, 15, school)\n",
    "\n",
    "    pdf.set_text_color(0, 0, 0)\n",
    "    pdf.ln(15)\n",
    "    pdf.set_font(\"SimHei\", size=16)\n",
    "    pdf.cell(0, 15, \"基本信息\")\n",
    "\n",
    "    pdf.ln(10)\n",
    "    pdf.set_font(\"SimHei\", size=12)\n",
    "    pdf.cell(95, 12, \"申请简介\", border=\"B\", new_x=\"RIGHT\")\n",
    "    pdf.cell(0, 12, \"硬件条件\", border=\"B\")\n",
    "\n",
    "    pdf.ln(12)\n",
    "    pdf.cell(30, 10, \"本科专业\", new_x=\"RIGHT\")\n",
    "    pdf.cell(65, 10, data[\"4. 当前专业\"], new_x=\"RIGHT\")\n",
    "    pdf.cell(30, 10, \"总GPA\", new_x=\"RIGHT\")\n",
    "    pdf.cell(0, 10, data['15. 总GPA'] + \"/\" + data['Unnamed: 16'])\n",
    "\n",
    "    pdf.ln(10)\n",
    "    pdf.cell(30, 10, \"是否竺院\", new_x=\"RIGHT\")\n",
    "    pdf.cell(65, 10, data[\"5. 是否竺院\"], new_x=\"RIGHT\")\n",
    "    pdf.cell(30, 10, \"专业GPA\", new_x=\"RIGHT\")\n",
    "    pdf.cell(0, 10, data['16. 专业GPA'] + \"/\" + data['Unnamed: 18'])\n",
    "\n",
    "    pdf.ln(10)\n",
    "    pdf.set_font(\"SimHei\", size=16)\n",
    "    pdf.cell(0, 10, \"申请结果\", new_x=\"LMARGIN\", new_y=\"NEXT\")\n",
    "    pdf.set_font(\"helvetica\", \"B\", size=14)\n",
    "    pdf.cell(0, 10, \"Offer\", new_x=\"LMARGIN\", new_y=\"NEXT\")\n",
    "    pdf.set_font(\"helvetica\", size=14)\n",
    "    pdf.multi_cell(0, 7, data['22. 你获得了哪些项目的 offer'], new_x=\"LMARGIN\", new_y=\"NEXT\")\n",
    "    pdf.set_font(\"helvetica\", \"B\", size=14)\n",
    "    pdf.cell(0, 10, \"Reject\", new_x=\"LMARGIN\", new_y=\"NEXT\")\n",
    "    pdf.set_font(\"helvetica\", size=14)\n",
    "    pdf.multi_cell(0, 7, data['23. 你收到了哪些项目的拒信'], new_x=\"LMARGIN\", new_y=\"NEXT\")\n",
    "\n",
    "    pdf.ln(5)\n",
    "    pdf.set_font(\"SimHei\", size=16)\n",
    "    pdf.cell(0, 10, \"个人经历\", new_x=\"LMARGIN\", new_y=\"NEXT\")\n",
    "    pdf.set_font(\"SimHei\", size=12)\n",
    "    pdf.cell(0, 10, \"科研经历\", new_x=\"LMARGIN\", new_y=\"NEXT\")\n",
    "    pdf.set_font(\"SimHei\", size=12)\n",
    "    pdf.multi_cell(0, 7, data['24. 你的科研经历'], new_x=\"LMARGIN\", new_y=\"NEXT\")\n",
    "\n",
    "    if np.isnan(data['25. 你的实习经历']) == False:\n",
    "        pdf.ln(3)\n",
    "        pdf.set_font(\"SimHei\", size=12)\n",
    "        pdf.cell(0, 10, \"实习经历\", new_x=\"LMARGIN\", new_y=\"NEXT\")\n",
    "        pdf.set_font(\"SimHei\", size=12)\n",
    "        pdf.multi_cell(0, 7, data['25. 你的实习经历'], new_x=\"LMARGIN\", new_y=\"NEXT\")\n",
    "    \n",
    "    if np.isnan(data['26. 你的竞赛经历']) == False:\n",
    "        pdf.ln(3)\n",
    "        pdf.set_font(\"SimHei\", size=12)\n",
    "        pdf.cell(0, 10, \"竞赛经历\", new_x=\"LMARGIN\", new_y=\"NEXT\")\n",
    "        pdf.set_font(\"SimHei\", size=12)\n",
    "        pdf.multi_cell(0, 7, data['26. 你的竞赛经历'], new_x=\"LMARGIN\", new_y=\"NEXT\")\n",
    "\n",
    "    pdf.ln(3)\n",
    "    pdf.set_font(\"SimHei\", size=16)\n",
    "    pdf.cell(0, 10, \"奖项与奖学金\", new_x=\"LMARGIN\", new_y=\"NEXT\")\n",
    "    pdf.set_font(\"SimHei\", size=12)\n",
    "    pdf.multi_cell(0, 7, data['27. 奖项与奖学金'], new_x=\"LMARGIN\", new_y=\"NEXT\")\n",
    "\n",
    "    if np.isnan(data['28. 论文和专利']) == False:\n",
    "        pdf.ln(3)\n",
    "        pdf.set_font(\"SimHei\", size=12)\n",
    "        pdf.cell(0, 10, '论文和专利', new_x=\"LMARGIN\", new_y=\"NEXT\")\n",
    "        pdf.set_font(\"SimHei\", size=12)\n",
    "        pdf.multi_cell(0, 7, data['28. 论文和专利'], new_x=\"LMARGIN\", new_y=\"NEXT\")\n",
    "\n",
    "    pdf.ln(5)\n",
    "    pdf.set_font(\"SimHei\", size=16)\n",
    "    pdf.cell(0, 15, \"申请经验\", new_x=\"LMARGIN\", new_y=\"NEXT\")\n",
    "\n",
    "    pdf.ln(3)\n",
    "    pdf.set_font(\"SimHei\", size=16)\n",
    "    pdf.cell(0, 10, \"推荐信来源\", new_x=\"LMARGIN\", new_y=\"NEXT\")\n",
    "    pdf.set_font(\"SimHei\", size=12)\n",
    "    pdf.multi_cell(0, 7, data['29. 推荐信来源'], new_x=\"LMARGIN\", new_y=\"NEXT\")\n",
    "\n",
    "    pdf.ln(3)\n",
    "    pdf.set_font(\"SimHei\", size=16)\n",
    "    pdf.cell(0, 10, '套磁经验', new_x=\"LMARGIN\", new_y=\"NEXT\")\n",
    "    pdf.set_font(\"SimHei\", size=12)\n",
    "    pdf.multi_cell(0, 7, data['30. 套磁经验'], new_x=\"LMARGIN\", new_y=\"NEXT\")\n",
    "\n",
    "    pdf.ln(3)\n",
    "    pdf.set_font(\"SimHei\", size=16)\n",
    "    pdf.cell(0, 10, '选项标准和考虑', new_x=\"LMARGIN\", new_y=\"NEXT\")\n",
    "    pdf.set_font(\"SimHei\", size=12)\n",
    "    pdf.multi_cell(0, 7, data['31. 选项标准和考虑'], new_x=\"LMARGIN\", new_y=\"NEXT\")\n",
    "\n",
    "    pdf.ln(3)\n",
    "    pdf.set_font(\"SimHei\", size=16)\n",
    "    pdf.cell(0, 10, '最终择校的考虑', new_x=\"LMARGIN\", new_y=\"NEXT\")\n",
    "    pdf.set_font(\"SimHei\", size=12)\n",
    "    pdf.multi_cell(0, 7, data['32. 最终择校的考虑'], new_x=\"LMARGIN\", new_y=\"NEXT\")\n",
    "\n",
    "    pdf.ln(3)\n",
    "    pdf.set_font(\"SimHei\", size=16)\n",
    "    pdf.cell(0, 10, '申请的正面因素', new_x=\"LMARGIN\", new_y=\"NEXT\")\n",
    "    pdf.set_font(\"SimHei\", size=12)\n",
    "    pdf.multi_cell(0, 7, data['33. 申请的正面因素'], new_x=\"LMARGIN\", new_y=\"NEXT\")\n",
    "\n",
    "    pdf.ln(3)\n",
    "    pdf.set_font(\"SimHei\", size=16)\n",
    "    pdf.cell(0, 10, '其他经验', new_x=\"LMARGIN\", new_y=\"NEXT\")\n",
    "    pdf.set_font(\"SimHei\", size=12)\n",
    "    pdf.multi_cell(0, 7, data['34. 其他经验'], new_x=\"LMARGIN\", new_y=\"NEXT\")\n",
    "    \n",
    "\n",
    "    \n",
    "pdf.output(\"new-tuto2.pdf\")"
   ]
  },
  {
   "cell_type": "code",
   "execution_count": null,
   "metadata": {},
   "outputs": [],
   "source": []
  }
 ],
 "metadata": {
  "kernelspec": {
   "display_name": "Python 3.9.7 ('base')",
   "language": "python",
   "name": "python3"
  },
  "language_info": {
   "codemirror_mode": {
    "name": "ipython",
    "version": 3
   },
   "file_extension": ".py",
   "mimetype": "text/x-python",
   "name": "python",
   "nbconvert_exporter": "python",
   "pygments_lexer": "ipython3",
   "version": "3.9.7"
  },
  "orig_nbformat": 4,
  "vscode": {
   "interpreter": {
    "hash": "6f5583cf1d9466b5c27e75c89cc6b383bed5736d6b16c51c8074d8690011a952"
   }
  }
 },
 "nbformat": 4,
 "nbformat_minor": 2
}
